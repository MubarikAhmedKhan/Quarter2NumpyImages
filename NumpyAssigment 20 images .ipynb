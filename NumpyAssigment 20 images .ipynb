{
 "cells": [
  {
   "cell_type": "code",
   "execution_count": 2,
   "metadata": {},
   "outputs": [],
   "source": [
    "import numpy as np\n",
    "import matplotlib.pylab as plt\n",
    "import os\n",
    "from PIL import Image\n",
    "\n"
   ]
  },
  {
   "cell_type": "code",
   "execution_count": 3,
   "metadata": {},
   "outputs": [],
   "source": [
    "image_list =[]\n",
    "resized_images = []\n",
    "import glob    \n",
    "for filename in glob.glob(r'\\Users\\HP\\assigment\\*.jpg'):\n",
    "    img = Image.open(filename)\n",
    "    image_list.append(img)\n",
    "    "
   ]
  },
  {
   "cell_type": "code",
   "execution_count": 4,
   "metadata": {},
   "outputs": [],
   "source": [
    "import glob\n",
    "filelist = glob.glob(r'\\Users\\HP\\assigment\\*.jpg')#"
   ]
  },
  {
   "cell_type": "code",
   "execution_count": 5,
   "metadata": {},
   "outputs": [],
   "source": [
    "Array  = np.array([np.array(Image.open(fname)) for fname in filelist])\n",
    "Array = np.resize(Array,[200,200,3])\n"
   ]
  },
  {
   "cell_type": "code",
   "execution_count": 6,
   "metadata": {},
   "outputs": [
    {
     "data": {
      "text/plain": [
       "120000"
      ]
     },
     "execution_count": 6,
     "metadata": {},
     "output_type": "execute_result"
    }
   ],
   "source": [
    "Array.size"
   ]
  },
  {
   "cell_type": "code",
   "execution_count": 7,
   "metadata": {},
   "outputs": [
    {
     "data": {
      "text/plain": [
       "3"
      ]
     },
     "execution_count": 7,
     "metadata": {},
     "output_type": "execute_result"
    }
   ],
   "source": [
    "Array.ndim"
   ]
  },
  {
   "cell_type": "code",
   "execution_count": 27,
   "metadata": {},
   "outputs": [],
   "source": [
    "array = np.zeros([20,512,512,3])"
   ]
  },
  {
   "cell_type": "code",
   "execution_count": 28,
   "metadata": {},
   "outputs": [
    {
     "data": {
      "text/plain": [
       "15728640"
      ]
     },
     "execution_count": 28,
     "metadata": {},
     "output_type": "execute_result"
    }
   ],
   "source": [
    "array_of_images = np.array(Array)\n",
    "array.size"
   ]
  },
  {
   "cell_type": "code",
   "execution_count": 31,
   "metadata": {},
   "outputs": [
    {
     "data": {
      "text/plain": [
       "array([0.0, 0.0, 0.0, ...,\n",
       "       array([[[246, 254, 217],\n",
       "        [246, 254, 217],\n",
       "        [246, 254, 217],\n",
       "        ...,\n",
       "        [246, 253, 219],\n",
       "        [246, 253, 219],\n",
       "        [246, 253, 219]],\n",
       "\n",
       "       [[246, 254, 217],\n",
       "        [246, 254, 217],\n",
       "        [246, 254, 217],\n",
       "        ...,\n",
       "        [246, 253, 219],\n",
       "        [246, 253, 219],\n",
       "        [246, 253, 219]],\n",
       "\n",
       "       [[246, 254, 217],\n",
       "        [246, 254, 217],\n",
       "        [246, 254, 217],\n",
       "        ...,\n",
       "        [246, 253, 219],\n",
       "        [246, 253, 219],\n",
       "        [246, 253, 219]],\n",
       "\n",
       "       ...,\n",
       "\n",
       "       [[245, 254, 209],\n",
       "        [245, 254, 209],\n",
       "        [245, 254, 209],\n",
       "        ...,\n",
       "        [244, 253, 210],\n",
       "        [244, 253, 210],\n",
       "        [244, 253, 210]],\n",
       "\n",
       "       [[245, 254, 209],\n",
       "        [245, 254, 209],\n",
       "        [245, 254, 209],\n",
       "        ...,\n",
       "        [244, 253, 210],\n",
       "        [244, 253, 210],\n",
       "        [244, 253, 210]],\n",
       "\n",
       "       [[245, 254, 209],\n",
       "        [245, 254, 209],\n",
       "        [245, 254, 209],\n",
       "        ...,\n",
       "        [244, 253, 210],\n",
       "        [244, 253, 210],\n",
       "        [244, 253, 210]]], dtype=uint8),\n",
       "       array([[[166, 188, 209],\n",
       "        [152, 175, 193],\n",
       "        [172, 196, 206],\n",
       "        ...,\n",
       "        [ 70,  94,  44],\n",
       "        [ 72,  96,  44],\n",
       "        [ 80, 105,  50]],\n",
       "\n",
       "       [[165, 187, 208],\n",
       "        [152, 175, 191],\n",
       "        [170, 194, 204],\n",
       "        ...,\n",
       "        [ 86, 109,  67],\n",
       "        [108, 131,  87],\n",
       "        [ 84, 107,  61]],\n",
       "\n",
       "       [[169, 192, 210],\n",
       "        [159, 182, 196],\n",
       "        [171, 196, 203],\n",
       "        ...,\n",
       "        [114, 134, 106],\n",
       "        [154, 175, 144],\n",
       "        [ 83, 105,  69]],\n",
       "\n",
       "       ...,\n",
       "\n",
       "       [[120, 157,  17],\n",
       "        [140, 179,  24],\n",
       "        [154, 198,  25],\n",
       "        ...,\n",
       "        [ 80, 110,   0],\n",
       "        [ 87, 117,   0],\n",
       "        [105, 136,   9]],\n",
       "\n",
       "       [[105, 142,   2],\n",
       "        [131, 171,  13],\n",
       "        [142, 186,  11],\n",
       "        ...,\n",
       "        [ 75, 104,   0],\n",
       "        [ 83, 112,   0],\n",
       "        [105, 135,  13]],\n",
       "\n",
       "       [[ 96, 133,   0],\n",
       "        [123, 162,   7],\n",
       "        [136, 178,   6],\n",
       "        ...,\n",
       "        [ 74, 103,   0],\n",
       "        [ 82, 111,   0],\n",
       "        [104, 133,  15]]], dtype=uint8),\n",
       "       array([[[255, 255, 255],\n",
       "        [255, 255, 255],\n",
       "        [255, 255, 255],\n",
       "        ...,\n",
       "        [255, 255, 255],\n",
       "        [255, 255, 255],\n",
       "        [255, 255, 255]],\n",
       "\n",
       "       [[255, 255, 255],\n",
       "        [255, 255, 255],\n",
       "        [255, 255, 255],\n",
       "        ...,\n",
       "        [255, 255, 255],\n",
       "        [255, 255, 255],\n",
       "        [255, 255, 255]],\n",
       "\n",
       "       [[255, 255, 255],\n",
       "        [255, 255, 255],\n",
       "        [255, 255, 255],\n",
       "        ...,\n",
       "        [255, 255, 255],\n",
       "        [255, 255, 255],\n",
       "        [255, 255, 255]],\n",
       "\n",
       "       ...,\n",
       "\n",
       "       [[254, 254, 254],\n",
       "        [254, 254, 254],\n",
       "        [254, 254, 254],\n",
       "        ...,\n",
       "        [255, 255, 255],\n",
       "        [255, 255, 255],\n",
       "        [255, 255, 255]],\n",
       "\n",
       "       [[255, 255, 255],\n",
       "        [255, 255, 255],\n",
       "        [255, 255, 255],\n",
       "        ...,\n",
       "        [255, 255, 255],\n",
       "        [255, 255, 255],\n",
       "        [255, 255, 255]],\n",
       "\n",
       "       [[255, 255, 255],\n",
       "        [255, 255, 255],\n",
       "        [255, 255, 255],\n",
       "        ...,\n",
       "        [255, 255, 255],\n",
       "        [255, 255, 255],\n",
       "        [255, 255, 255]]], dtype=uint8)], dtype=object)"
      ]
     },
     "execution_count": 31,
     "metadata": {},
     "output_type": "execute_result"
    }
   ],
   "source": [
    "np.append(array, Array)"
   ]
  },
  {
   "cell_type": "code",
   "execution_count": 30,
   "metadata": {},
   "outputs": [
    {
     "data": {
      "text/plain": [
       "(20, 512, 512, 3)"
      ]
     },
     "execution_count": 30,
     "metadata": {},
     "output_type": "execute_result"
    }
   ],
   "source": [
    "array.shape"
   ]
  },
  {
   "cell_type": "code",
   "execution_count": null,
   "metadata": {},
   "outputs": [],
   "source": []
  },
  {
   "cell_type": "code",
   "execution_count": null,
   "metadata": {},
   "outputs": [],
   "source": []
  }
 ],
 "metadata": {
  "kernelspec": {
   "display_name": "Python 3",
   "language": "python",
   "name": "python3"
  },
  "language_info": {
   "codemirror_mode": {
    "name": "ipython",
    "version": 3
   },
   "file_extension": ".py",
   "mimetype": "text/x-python",
   "name": "python",
   "nbconvert_exporter": "python",
   "pygments_lexer": "ipython3",
   "version": "3.7.3"
  }
 },
 "nbformat": 4,
 "nbformat_minor": 2
}
